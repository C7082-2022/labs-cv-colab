{
 "cells": [
  {
   "cell_type": "markdown",
   "id": "5b1dca09-075a-4ee7-8d4d-cd27a0115c38",
   "metadata": {},
   "source": [
    "# Lab 04 The sliding window\n",
    "\n",
    "<br>\n",
    "\n",
    "<center>\n",
    "    \n",
    "<img src=\"img/craiyon-windows.jpg\" alt=\"Spam\" width=\"300\"/> \n",
    "    \n",
    "    Craiyon.com \"Sliding windows\" \n",
    "    \n",
    "</center>    \n",
    "\n",
    "<br>"
   ]
  },
  {
   "cell_type": "code",
   "execution_count": 2,
   "id": "a264e713",
   "metadata": {
    "_kg_hide-input": true,
    "_kg_hide-output": true,
    "papermill": {
     "duration": 1.355244,
     "end_time": "2022-05-05T17:53:31.237477",
     "exception": false,
     "start_time": "2022-05-05T17:53:29.882233",
     "status": "completed"
    },
    "tags": []
   },
   "outputs": [],
   "source": [
    "# pip install scikit-image\n",
    "import numpy as np\n",
    "from itertools import product\n",
    "from skimage import draw, transform\n",
    "\n",
    "def circle(size, val=None, r_shrink=0):\n",
    "    circle = np.zeros([size[0]+1, size[1]+1])\n",
    "    rr, cc = draw.circle_perimeter(\n",
    "        size[0]//2, size[1]//2,\n",
    "        radius=size[0]//2 - r_shrink,\n",
    "        shape=[size[0]+1, size[1]+1],\n",
    "    )\n",
    "    if val is None:\n",
    "        circle[rr, cc] = np.random.uniform(size=circle.shape)[rr, cc]\n",
    "    else:\n",
    "        circle[rr, cc] = val\n",
    "    circle = transform.resize(circle, size, order=0)\n",
    "    return circle\n",
    "\n",
    "def show_kernel(kernel, label=True, digits=None, text_size=28):\n",
    "    # Format kernel\n",
    "    kernel = np.array(kernel)\n",
    "    if digits is not None:\n",
    "        kernel = kernel.round(digits)\n",
    "\n",
    "    # Plot kernel\n",
    "    cmap = plt.get_cmap('Blues_r')\n",
    "    plt.imshow(kernel, cmap=cmap)\n",
    "    rows, cols = kernel.shape\n",
    "    thresh = (kernel.max()+kernel.min())/2\n",
    "    # Optionally, add value labels\n",
    "    if label:\n",
    "        for i, j in product(range(rows), range(cols)):\n",
    "            val = kernel[i, j]\n",
    "            color = cmap(0) if val > thresh else cmap(255)\n",
    "            plt.text(j, i, val, \n",
    "                     color=color, size=text_size,\n",
    "                     horizontalalignment='center', verticalalignment='center')\n",
    "    plt.xticks([])\n",
    "    plt.yticks([])\n",
    "\n",
    "def show_extraction(image,\n",
    "                    kernel,\n",
    "                    conv_stride=1,\n",
    "                    conv_padding='valid',\n",
    "                    activation='relu',\n",
    "                    pool_size=2,\n",
    "                    pool_stride=2,\n",
    "                    pool_padding='same',\n",
    "                    figsize=(10, 10),\n",
    "                    subplot_shape=(2, 2),\n",
    "                    ops=['Input', 'Filter', 'Detect', 'Condense'],\n",
    "                    gamma=1.0):\n",
    "    # Create Layers\n",
    "    model = tf.keras.Sequential([\n",
    "                    tf.keras.layers.Conv2D(\n",
    "                        filters=1,\n",
    "                        kernel_size=kernel.shape,\n",
    "                        strides=conv_stride,\n",
    "                        padding=conv_padding,\n",
    "                        use_bias=False,\n",
    "                        input_shape=image.shape,\n",
    "                    ),\n",
    "                    tf.keras.layers.Activation(activation),\n",
    "                    tf.keras.layers.MaxPool2D(\n",
    "                        pool_size=pool_size,\n",
    "                        strides=pool_stride,\n",
    "                        padding=pool_padding,\n",
    "                    ),\n",
    "                   ])\n",
    "\n",
    "    layer_filter, layer_detect, layer_condense = model.layers\n",
    "    kernel = tf.reshape(kernel, [*kernel.shape, 1, 1])\n",
    "    layer_filter.set_weights([kernel])\n",
    "\n",
    "    # Format for TF\n",
    "    image = tf.expand_dims(image, axis=0)\n",
    "    image = tf.image.convert_image_dtype(image, dtype=tf.float32) \n",
    "    \n",
    "    # Extract Feature\n",
    "    image_filter = layer_filter(image)\n",
    "    image_detect = layer_detect(image_filter)\n",
    "    image_condense = layer_condense(image_detect)\n",
    "    \n",
    "    images = {}\n",
    "    if 'Input' in ops:\n",
    "        images.update({'Input': (image, 1.0)})\n",
    "    if 'Filter' in ops:\n",
    "        images.update({'Filter': (image_filter, 1.0)})\n",
    "    if 'Detect' in ops:\n",
    "        images.update({'Detect': (image_detect, gamma)})\n",
    "    if 'Condense' in ops:\n",
    "        images.update({'Condense': (image_condense, gamma)})\n",
    "    \n",
    "    # Plot\n",
    "    plt.figure(figsize=figsize)\n",
    "    for i, title in enumerate(ops):\n",
    "        image, gamma = images[title]\n",
    "        plt.subplot(*subplot_shape, i+1)\n",
    "        plt.imshow(tf.image.adjust_gamma(tf.squeeze(image), gamma))\n",
    "        plt.axis('off')\n",
    "        plt.title(title)"
   ]
  },
  {
   "cell_type": "markdown",
   "id": "d0dbc07a",
   "metadata": {
    "papermill": {
     "duration": 0.00735,
     "end_time": "2022-05-05T17:53:31.253165",
     "exception": false,
     "start_time": "2022-05-05T17:53:31.245815",
     "status": "completed"
    },
    "tags": []
   },
   "source": [
    "## 1 Objectives\n",
    "\n",
    "In previous notebooks, we learned about the three operations that carry out feature extraction from an image:\n",
    "1. *filter* with a **convolution** layer\n",
    "2. *detect* with **ReLU** activation\n",
    "3. *condense* with a **maximum pooling** layer\n",
    "\n",
    "The convolution and pooling operations share a common feature: they are both performed over a **sliding window**. With convolution, this \"window\" is given by the dimensions of the kernel, the parameter `kernel_size`. With pooling, it is the pooling window, given by `pool_size`.\n",
    "\n",
    "<center><figure>\n",
    "<img src=\"img/4-1.gif\" width=400 alt=\"A 2D sliding window.\">\n",
    "</figure></center>\n",
    "\n",
    "There are two additional parameters affecting both convolution and pooling layers -- these are the `strides` of the window and whether to use `padding` at the image edges. The `strides` parameter says how far the window should move at each step, and the `padding` parameter describes how we handle the pixels at the edges of the input.\n",
    "\n",
    "With these two parameters, defining the two layers becomes:"
   ]
  },
  {
   "cell_type": "code",
   "execution_count": 3,
   "id": "d9e261e1",
   "metadata": {
    "papermill": {
     "duration": 6.936955,
     "end_time": "2022-05-05T17:53:38.197768",
     "exception": false,
     "start_time": "2022-05-05T17:53:31.260813",
     "status": "completed"
    },
    "tags": []
   },
   "outputs": [],
   "source": [
    "from tensorflow import keras\n",
    "from tensorflow.keras import layers\n",
    "\n",
    "model = keras.Sequential([\n",
    "    layers.Conv2D(filters=64,\n",
    "                  kernel_size=3,\n",
    "                  strides=1,\n",
    "                  padding='same',\n",
    "                  activation='relu'),\n",
    "    layers.MaxPool2D(pool_size=2,\n",
    "                     strides=1,\n",
    "                     padding='same')\n",
    "    # More layers follow\n",
    "])"
   ]
  },
  {
   "cell_type": "markdown",
   "id": "ff7317c4-b796-47c1-b7f1-e8d67587ff8d",
   "metadata": {},
   "source": [
    "## 2 Stride\n",
    "\n",
    "The distance the window moves at each step is called the **stride**. We need to specify the stride in both dimensions of the image: one for moving left to right and one for moving top to bottom. This animation shows `strides=(2, 2)`, a movement of 2 pixels each step.\n",
    "\n",
    "<center><figure>\n",
    "<img src=\"img/4-2.gif\" width=400 alt=\"Sliding window with a stride of (2, 2).\">\n",
    "</figure></center>\n",
    "\n",
    "What effect does the stride have? Whenever the stride in either direction is greater than 1, the sliding window will skip over some of the pixels in the input at each step.\n",
    "\n",
    "Because we want high-quality features to use for classification, convolutional layers will most often have `strides=(1, 1)`. Increasing the stride means that we miss out on potentially valuble information in our summary. Maximum pooling layers, however, will almost always have stride values greater than 1, like `(2, 2)` or `(3, 3)`, but not larger than the window itself.\n",
    "\n",
    "Finally, note that when the value of the `strides` is the same number in both directions, you only need to set that number; for instance, instead of `strides=(2, 2)`, you could use `strides=2` for the parameter setting."
   ]
  },
  {
   "cell_type": "markdown",
   "id": "03934f9d",
   "metadata": {
    "papermill": {
     "duration": 0.008012,
     "end_time": "2022-05-05T17:53:38.214257",
     "exception": false,
     "start_time": "2022-05-05T17:53:38.206245",
     "status": "completed"
    },
    "tags": []
   },
   "source": [
    "\n",
    "\n",
    "## 3 Padding \n",
    "\n",
    "When performing the sliding window computation, there is a question as to what to do at the boundaries of the input. Staying entirely inside the input image means the window will never sit squarely over these boundary pixels like it does for every other pixel in the input. Since we aren't treating all the pixels exactly the same, could there be a problem?\n",
    "\n",
    "What the convolution does with these boundary values is determined by its `padding` parameter. In TensorFlow, you have two choices: either `padding='same'` or `padding='valid'`. There are trade-offs with each.\n",
    "\n",
    "When we set `padding='valid'`, the convolution window will stay entirely inside the input. The drawback is that the output shrinks (loses pixels), and shrinks more for larger kernels. This will limit the number of layers the network can contain, especially when inputs are small in size.\n",
    "\n",
    "The alternative is to use `padding='same'`. The trick here is to **pad** the input with 0's around its borders, using just enough 0's to make the size of the output the *same* as the size of the input. This can have the effect however of diluting the influence of pixels at the borders. The animation below shows a sliding window with `'same'` padding.\n",
    "\n",
    "<center><figure>\n",
    "<img src=\"img/4-3.gif\" width=400 alt=\"Illustration of zero (same) padding.\">\n",
    "</figure></center>\n",
    "\n",
    "The VGG model we've been looking at uses `same` padding for all of its convolutional layers. Most modern convnets will use some combination of the two. (Another parameter to tune!)\n",
    "\n"
   ]
  },
  {
   "cell_type": "markdown",
   "id": "5f302386-19d5-47e3-a8c2-703af151504d",
   "metadata": {},
   "source": [
    "## 4 Example - Exploring Sliding Windows\n",
    "\n",
    "To better understand the effect of the sliding window parameters, it can help to observe a feature extraction on a low-resolution image so that we can see the individual pixels. Let's just look at a simple circle.\n",
    "\n",
    "This next hidden cell will create an image and kernel for us."
   ]
  },
  {
   "cell_type": "code",
   "execution_count": 4,
   "id": "4688b09c",
   "metadata": {
    "_kg_hide-input": true,
    "papermill": {
     "duration": 0.157697,
     "end_time": "2022-05-05T17:53:38.380417",
     "exception": false,
     "start_time": "2022-05-05T17:53:38.222720",
     "status": "completed"
    },
    "tags": []
   },
   "outputs": [
    {
     "data": {
      "image/png": "[encoded data removed]",
      "text/plain": [
       "<Figure size 640x480 with 1 Axes>"
      ]
     },
     "metadata": {},
     "output_type": "display_data"
    }
   ],
   "source": [
    "\n",
    "import tensorflow as tf\n",
    "import matplotlib.pyplot as plt\n",
    "\n",
    "plt.rc('figure', autolayout=True)\n",
    "plt.rc('axes', labelweight='bold', labelsize='large',\n",
    "       titleweight='bold', titlesize=18, titlepad=10)\n",
    "plt.rc('image', cmap='magma')\n",
    "\n",
    "image = circle([64, 64], val=1.0, r_shrink=3)\n",
    "image = tf.reshape(image, [*image.shape, 1])\n",
    "# Bottom sobel\n",
    "kernel = tf.constant(\n",
    "    [[-1, -2, -1],\n",
    "     [0, 0, 0],\n",
    "     [1, 2, 1]],\n",
    ")\n",
    "\n",
    "show_kernel(kernel)"
   ]
  },
  {
   "cell_type": "markdown",
   "id": "5f8d3044",
   "metadata": {
    "papermill": {
     "duration": 0.010793,
     "end_time": "2022-05-05T17:53:38.403005",
     "exception": false,
     "start_time": "2022-05-05T17:53:38.392212",
     "status": "completed"
    },
    "tags": []
   },
   "source": [
    "<br>\n",
    "\n",
    "The VGG architecture is fairly simple. It uses convolution with strides of 1 and maximum pooling with $2 \\times 2$ windows and strides of 2. We've included a function in the `visiontools` utility script that will show us all the steps."
   ]
  },
  {
   "cell_type": "code",
   "execution_count": 5,
   "id": "1dac994a",
   "metadata": {
    "lines_to_next_cell": 0,
    "papermill": {
     "duration": 0.409314,
     "end_time": "2022-05-05T17:53:38.823450",
     "exception": false,
     "start_time": "2022-05-05T17:53:38.414136",
     "status": "completed"
    },
    "tags": []
   },
   "outputs": [
    {
     "data": {
      "image/png": "[encoded data removed]",
      "text/plain": [
       "<Figure size 1400x600 with 4 Axes>"
      ]
     },
     "metadata": {},
     "output_type": "display_data"
    }
   ],
   "source": [
    "show_extraction(\n",
    "    image, kernel,\n",
    "\n",
    "    # Window parameters\n",
    "    conv_stride=1,\n",
    "    pool_size=2,\n",
    "    pool_stride=2,\n",
    "\n",
    "    subplot_shape=(1, 4),\n",
    "    figsize=(14, 6),\n",
    ")"
   ]
  },
  {
   "cell_type": "markdown",
   "id": "a15354ae",
   "metadata": {
    "papermill": {
     "duration": 0.014098,
     "end_time": "2022-05-05T17:53:38.852566",
     "exception": false,
     "start_time": "2022-05-05T17:53:38.838468",
     "status": "completed"
    },
    "tags": []
   },
   "source": [
    "And that works pretty well! The kernel was designed to detect horizontal lines, and we can see that in the resulting feature map the more horizontal parts of the input end up with the greatest activation.\n",
    "\n",
    "What would happen if we changed the strides of the convolution to 3?"
   ]
  },
  {
   "cell_type": "code",
   "execution_count": 6,
   "id": "a3d363f0",
   "metadata": {
    "papermill": {
     "duration": 0.247983,
     "end_time": "2022-05-05T17:53:39.115090",
     "exception": false,
     "start_time": "2022-05-05T17:53:38.867107",
     "status": "completed"
    },
    "tags": []
   },
   "outputs": [
    {
     "data": {
      "image/png": "[encoded data removed]",
      "text/plain": [
       "<Figure size 1400x600 with 4 Axes>"
      ]
     },
     "metadata": {},
     "output_type": "display_data"
    }
   ],
   "source": [
    "show_extraction(\n",
    "    image, kernel,\n",
    "\n",
    "    # Window parameters\n",
    "    conv_stride=3,\n",
    "    pool_size=2,\n",
    "    pool_stride=2,\n",
    "\n",
    "    subplot_shape=(1, 4),\n",
    "    figsize=(14, 6),    \n",
    ")"
   ]
  },
  {
   "cell_type": "markdown",
   "id": "f3da63ea",
   "metadata": {
    "papermill": {
     "duration": 0.015031,
     "end_time": "2022-05-05T17:53:39.145609",
     "exception": false,
     "start_time": "2022-05-05T17:53:39.130578",
     "status": "completed"
    },
    "tags": []
   },
   "source": [
    "This seems to reduce the quality of the feature extracted. Our input circle is rather \"finely detailed,\" being only 1 pixel wide. A convolution with strides of 3 is too coarse to produce a good feature map from it.\n",
    "\n",
    "Sometimes, a model will use a convolution with a larger stride in it's initial layer. This will usually be coupled with a larger kernel as well. The ResNet50 model, for instance, uses $7 \\times 7$ kernels with strides of 2 in its first layer. This seems to accelerate the production of large-scale features without the sacrifice of too much information from the input.\n",
    "\n"
   ]
  },
  {
   "cell_type": "markdown",
   "id": "50ddc06c-e2f1-4b4c-9a45-37fb8b63beb3",
   "metadata": {},
   "source": [
    "## 5 Exercises\n",
    "\n",
    "In these exercises, you'll explore the operations a couple of popular convnet architectures use for feature extraction, learn about how convnets can capture large-scale visual features through stacking layers, and finally see how convolution can be used on one-dimensional data, in this case, a time series.\n",
    "\n",
    "Run the cell below to set everything up."
   ]
  },
  {
   "cell_type": "code",
   "execution_count": 8,
   "id": "4fbb803c-25ad-4fb9-a0a1-006b10fafdff",
   "metadata": {
    "lines_to_next_cell": 2
   },
   "outputs": [],
   "source": [
    "import tensorflow as tf\n",
    "import matplotlib.pyplot as plt\n",
    "\n",
    "plt.rc('figure', autolayout=True)\n",
    "plt.rc('axes', labelweight='bold', labelsize='large',\n",
    "       titleweight='bold', titlesize=18, titlepad=10)\n",
    "plt.rc('image', cmap='magma')"
   ]
  },
  {
   "cell_type": "markdown",
   "id": "f6bd3ecc-6bef-4749-96b5-257126bc5d75",
   "metadata": {},
   "source": [
    "**The Receptive Field**\n",
    "\n",
    "Trace back all the connections from some neuron and eventually you reach the input image. All of the input pixels a neuron is connected to is that neuron's **receptive field**. The receptive field just tells you which parts of the input image a neuron receives information from.\n",
    "\n",
    "As we've seen, if your first layer is a convolution with $3 \\times 3$ kernels, then each neuron in that layer gets input from a $3 \\times 3$ patch of pixels (except maybe at the border).\n",
    "\n",
    "What happens if you add another convolutional layer with $3 \\times 3$ kernels? Consider this next illustration:\n",
    "\n",
    "<center><figure>\n",
    "<img src=\"img/4-5.png\" alt=\"Illustration of the receptive field of two stacked convolutions.\" width=250>\n",
    "</figure></center>\n",
    "\n",
    "Now trace back the connections from the neuron at top and you can see that it's connected to a $5 \\times 5$ patch of pixels in the input (the bottom layer): each neuron in the $3 \\times 3$ patch in the middle layer is connected to a $3 \\times 3$ input patch, but they overlap in a $5 \\times 5$ patch. So that neuron at top has a $5 \\times 5$ receptive field."
   ]
  },
  {
   "cell_type": "markdown",
   "id": "b12ab44a-bc85-4f3b-853d-da07f18bd56c",
   "metadata": {},
   "source": [
    "### 5.1 Growing the Receptive Field \n",
    "\n",
    "Now, if you added a *third* convolutional layer with a `(3, 3)` kernel, what receptive field would its neurons have? Run the cell below for an answer. (Or see a hint first!)"
   ]
  },
  {
   "cell_type": "markdown",
   "id": "5daf2e77-4b5c-44f7-80b6-cff99b2ee458",
   "metadata": {},
   "source": [
    "So why stack layers like this? Three `(3, 3)` kernels have 27 parameters, while one `(7, 7)` kernel has 49, though they both create the same receptive field. This stacking-layers trick is one of the ways convnets are able to create large receptive fields without increasing the number of parameters too much. You'll see how to do this yourself in the next lesson!"
   ]
  },
  {
   "cell_type": "markdown",
   "id": "527cebb0-f051-4f40-824c-68f5bacfca31",
   "metadata": {},
   "source": [
    "**One-Dimensional Convolution**\n",
    "\n",
    "Convolutional networks turn out to be useful not only (two-dimensional) images, but also on things like time-series (one-dimensional) and video (three-dimensional).\n",
    "\n",
    "We've seen how convolutional networks can learn to extract features from (two-dimensional) images. It turns out that convnets can also learn to extract features from things like time-series (one-dimensional) and video (three-dimensional).\n",
    "\n",
    "We'll see what convolution looks like on a time-series.\n",
    "\n",
    "The time series we'll use is from [Google Trends](https://trends.google.com/trends/). It measures the popularity of the search term \"machine learning\"."
   ]
  },
  {
   "cell_type": "code",
   "execution_count": 9,
   "id": "03928848-4bdb-4935-9bc5-a3a4818620f2",
   "metadata": {},
   "outputs": [
    {
     "data": {
      "image/png": "[encoded data removed]",
      "text/plain": [
       "<Figure size 640x480 with 1 Axes>"
      ]
     },
     "metadata": {},
     "output_type": "display_data"
    }
   ],
   "source": [
    "import pandas as pd\n",
    "\n",
    "# Load the time series as a Pandas dataframe\n",
    "machinelearning = pd.read_csv(\n",
    "    'data/machinelearning.csv',\n",
    "    parse_dates=['Week'],\n",
    "    index_col='Week',\n",
    ")\n",
    "\n",
    "machinelearning.plot();"
   ]
  },
  {
   "cell_type": "markdown",
   "id": "15010ccb-aebb-4456-bbd9-9d809d57ca14",
   "metadata": {},
   "source": [
    "What about the kernels? Images are two-dimensional and so our kernels were 2D arrays. A time-series is one-dimensional, so what should the kernel be? A 1D array! Here are some kernels sometimes used on time-series data:"
   ]
  },
  {
   "cell_type": "code",
   "execution_count": 10,
   "id": "1d0af9fa-b8b6-4f31-83e8-6bcd41af8682",
   "metadata": {},
   "outputs": [],
   "source": [
    "detrend = tf.constant([-1, 1], dtype=tf.float32)\n",
    "\n",
    "average = tf.constant([0.2, 0.2, 0.2, 0.2, 0.2], dtype=tf.float32)\n",
    "\n",
    "spencer = tf.constant([-3, -6, -5, 3, 21, 46, 67, 74, 67, 46, 32, 3, -5, -6, -3], dtype=tf.float32) / 320"
   ]
  },
  {
   "cell_type": "markdown",
   "id": "28bcf72f-6337-415c-9ce2-b2c97dfdc707",
   "metadata": {},
   "source": [
    "Convolution on a sequence works just like convolution on an image. The difference is just that a sliding window on a sequence only has one direction to travel -- left to right -- instead of the two directions on an image. And just like before, the features picked out depend on the pattern on numbers in the kernel.\n",
    "\n",
    "Can you guess what kind of features these kernels extract? Uncomment one of the kernels below and run the cell to see!"
   ]
  },
  {
   "cell_type": "code",
   "execution_count": null,
   "id": "b0749775-05e1-45fe-b510-d70a1e6e16ba",
   "metadata": {
    "lines_to_next_cell": 0
   },
   "outputs": [],
   "source": [
    "# UNCOMMENT ONE\n",
    "kernel = detrend\n",
    "# kernel = average\n",
    "# kernel = spencer\n",
    "\n",
    "# Reformat for TensorFlow\n",
    "ts_data = machinelearning.to_numpy()\n",
    "ts_data = tf.expand_dims(ts_data, axis=0)\n",
    "ts_data = tf.cast(ts_data, dtype=tf.float32)\n",
    "kern = tf.reshape(kernel, shape=(*kernel.shape, 1, 1))\n",
    "\n",
    "ts_filter = tf.nn.conv1d(\n",
    "    input=ts_data,\n",
    "    filters=kern,\n",
    "    stride=1,\n",
    "    padding='VALID',\n",
    ")\n",
    "\n",
    "# Format as Pandas Series\n",
    "machinelearning_filtered = pd.Series(tf.squeeze(ts_filter).numpy())\n",
    "\n",
    "machinelearning_filtered.plot();"
   ]
  },
  {
   "cell_type": "markdown",
   "id": "8c561071-d8ee-40d3-ad94-82e375e8117a",
   "metadata": {},
   "source": [
    "In fact, the `detrend` kernel filters for *changes* in the series, while `average` and `spencer` are both \"smoothers\" that filter for low-frequency components in the series.\n",
    "\n",
    "If you were interested in predicting the future popularity of search terms, you might train a convnet on time-series like this one. It would try to learn what features in those series are most informative for the prediction.\n",
    "\n",
    "Though convnets are not often the best choice on their own for these kinds of problems, they are often incorporated into other models for their feature extraction capabilities."
   ]
  }
 ],
 "metadata": {
  "jupytext": {
   "formats": "md,ipynb"
  },
  "kernelspec": {
   "display_name": "Python 3 (ipykernel)",
   "language": "python",
   "name": "python3"
  },
  "language_info": {
   "codemirror_mode": {
    "name": "ipython",
    "version": 3
   },
   "file_extension": ".py",
   "mimetype": "text/x-python",
   "name": "python",
   "nbconvert_exporter": "python",
   "pygments_lexer": "ipython3",
   "version": "3.7.13"
  },
  "papermill": {
   "default_parameters": {},
   "duration": 20.51922,
   "end_time": "2022-05-05T17:53:41.840554",
   "environment_variables": {},
   "exception": null,
   "input_path": "__notebook__.ipynb",
   "output_path": "__notebook__.ipynb",
   "parameters": {},
   "start_time": "2022-05-05T17:53:21.321334",
   "version": "2.3.4"
  }
 },
 "nbformat": 4,
 "nbformat_minor": 5
}
