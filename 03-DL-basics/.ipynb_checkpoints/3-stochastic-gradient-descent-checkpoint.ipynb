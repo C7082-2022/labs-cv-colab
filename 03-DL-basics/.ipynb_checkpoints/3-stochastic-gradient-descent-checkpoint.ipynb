{
 "cells": [
  {
   "cell_type": "markdown",
   "id": "577ed263-13b5-49d0-97ee-20a47ffb907a",
   "metadata": {},
   "source": [
    "# Lab 03 Stochastic gradient descent\n",
    "\n",
    "<br>\n",
    "\n",
    "<center>\n",
    "    \n",
    "<img src=\"img/craiyon-sgd.jpg\" alt=\"Spam\" width=\"300\"/> \n",
    "    \n",
    "    Craiyon.com \"Stochastic gradient descent\" \n",
    "    \n",
    "</center>    \n",
    "\n",
    "<br>"
   ]
  },
  {
   "cell_type": "markdown",
   "id": "f5d2e1bc",
   "metadata": {
    "papermill": {
     "duration": 0.010959,
     "end_time": "2022-05-05T17:51:08.731570",
     "exception": false,
     "start_time": "2022-05-05T17:51:08.720611",
     "status": "completed"
    },
    "tags": []
   },
   "source": [
    "## 1 Objectives\n",
    "\n",
    "We have learned how to build fully-connected networks out of stacks of dense layers. When first created, all of the network's weights are set randomly -- the network doesn't \"know\" anything yet. In this notebook we are going to see how to train a neural network; we're going to see how neural networks *learn*.\n",
    "\n",
    "As with all machine learning tasks, we begin with a set of training data. Each example in the training data consists of some features (the inputs) together with an expected target (the output). Training the network means adjusting its weights in such a way that it can transform the features into the target. In the *80 Cereals* dataset, for instance, we want a network that can take each cereal's `'sugar'`, `'fiber'`, and `'protein'` content and produce a prediction for that cereal's `'calories'`. If we can successfully train a network to do that, its weights must represent in some way the relationship between those features and that target as expressed in the training data.\n",
    "\n",
    "In addition to the training data, we will explore:\n",
    "- A \"loss function\" that measures how good the network's predictions are.\n",
    "- An \"optimizer\" that can tell the network how to change its weights.\n",
    "\n"
   ]
  },
  {
   "cell_type": "markdown",
   "id": "849086cd-e8d8-417e-a440-256f3b66cb19",
   "metadata": {
    "tags": []
   },
   "source": [
    "## 2 The Loss Function\n",
    "\n",
    "We've seen how to design an architecture for a network, but we haven't seen how to tell a network *what* problem to solve. This is the job of the loss function.\n",
    "\n",
    "The **loss function** measures the disparity between the the target's true value and the value the model predicts. \n",
    "\n",
    "Different problems call for different loss functions. We have been looking at **regression** problems, where the task is to predict some numerical value -- calories in *80 Cereals*, rating in *Red Wine Quality*. Other regression tasks might be predicting the price of a house or the fuel efficiency of a car.\n",
    "\n",
    "A common loss function for regression problems is the **mean absolute error** or **MAE**. For each prediction `y_pred`, MAE measures the disparity from the true target `y_true` by an absolute difference `abs(y_true - y_pred)`.\n",
    "\n",
    "The total MAE loss on a dataset is the mean of all these absolute differences.\n",
    "\n",
    "<center>\n",
    "<figure style=\"padding: 1em;\">\n",
    "<img src=\"img\\3-1.png\" width=\"500\" alt=\"A graph depicting error bars from data points to the fitted line..\">\n",
    "<figcaption style=\"textalign: center; font-style: italic\">The mean absolute error is the average length between the fitted curve and the data points.\n",
    "</figcaption>\n",
    "</figure>\n",
    "</center>\n",
    "    \n",
    "Besides MAE, other loss functions you might see for regression problems are the mean-squared error (MSE) or the Huber loss (both available in Keras).\n",
    "\n",
    "During training, the model will use the loss function as a guide for finding the correct values of its weights (lower loss is better). In other words, the loss function tells the network its objective.\n",
    "\n"
   ]
  },
  {
   "cell_type": "markdown",
   "id": "f7c57738-b7bb-40d5-a4f9-b20f3e7ec523",
   "metadata": {},
   "source": [
    "## 3 The Optimizer - Stochastic Gradient Descent\n",
    "\n",
    "We've described the problem we want the network to solve, but now we need to say *how* to solve it. This is the job of the **optimizer**. The optimizer is an algorithm that adjusts the weights to minimize the loss.\n",
    "\n",
    "Virtually all of the optimization algorithms used in deep learning belong to a family called **stochastic gradient descent**. They are iterative algorithms that train a network in steps. One **step** of training goes like this:\n",
    "1. Sample some training data and run it through the network to make predictions.\n",
    "2. Measure the loss between the predictions and the true values.\n",
    "3. Finally, adjust the weights in a direction that makes the loss smaller.\n",
    "\n",
    "Then just do this over and over until the loss is as small as you like (or until it won't decrease any further.)\n",
    "\n",
    "<center>\n",
    "<figure style=\"padding: 1em;\">\n",
    "<img src=\"img\\3-2.gif\" width=\"1600\" alt=\"Fitting a line batch by batch. The loss decreases and the weights approach their true values.\">\n",
    "<figcaption style=\"textalign: center; font-style: italic\">Training a neural network with Stochastic Gradient Descent.\n",
    "</figcaption>\n",
    "</figure>\n",
    "</center>\n",
    "\n",
    "\n",
    "Each iteration's sample of training data is called a **minibatch** (or often just \"batch\"), while a complete round of the training data is called an **epoch**. The number of epochs you train for is how many times the network will see each training example.\n",
    "\n",
    "The animation shows the linear model from Lesson 1 being trained with SGD. The pale red dots depict the entire training set, while the solid red dots are the minibatches. Every time SGD sees a new minibatch, it will shift the weights (`w` the slope and `b` the y-intercept) toward their correct values on that batch. Batch after batch, the line eventually converges to its best fit. You can see that the loss gets smaller as the weights get closer to their true values.\n",
    "\n"
   ]
  },
  {
   "cell_type": "markdown",
   "id": "30ca3622-2cff-4b9b-a2fb-c48d896b2fb8",
   "metadata": {
    "tags": []
   },
   "source": [
    "## 4 Learning Rate and Batch Size\n",
    "\n",
    "Notice that the line only makes a small shift in the direction of each batch (instead of moving all the way). The size of these shifts is determined by the **learning rate**. A smaller learning rate means the network needs to see more minibatches before its weights converge to their best values.\n",
    "\n",
    "The learning rate and the size of the minibatches are the two parameters that have the largest effect on how the SGD training proceeds. Their interaction is often subtle and the right choice for these parameters isn't always obvious. (We'll explore these effects in the exercise.)\n",
    "\n",
    "Fortunately, for most work it won't be necessary to do an extensive hyperparameter search to get satisfactory results. **Adam** is an SGD algorithm that has an adaptive learning rate that makes it suitable for most problems without any parameter tuning (it is \"self tuning\", in a sense). Adam is a great general-purpose optimizer.\n",
    "\n"
   ]
  },
  {
   "cell_type": "markdown",
   "id": "1751e95e-e02e-47c2-9f86-544ab522c03d",
   "metadata": {},
   "source": [
    "## 5 Adding the Loss and Optimizer\n",
    "\n",
    "After defining a model, you can add a loss function and optimizer with the model's `compile` method:\n",
    "\n",
    "```\n",
    "model.compile(\n",
    "    optimizer=\"adam\",\n",
    "    loss=\"mae\",\n",
    ")\n",
    "```\n",
    "\n",
    "Notice that we are able to specify the loss and optimizer with just a string. You can also access these directly through the Keras API -- if you wanted to tune parameters, for instance -- but for us, the defaults will work fine.\n",
    "\n",
    "\n",
    "**What's In a Name?**\n",
    "\n",
    "The <strong>gradient</strong> is a vector that tells us in what direction the weights need to go. More precisely, it tells us how to change the weights to make the loss change <em>fastest</em>. We call our process gradient <strong>descent</strong> because it uses the gradient to <em>descend</em> the loss curve towards a minimum. <strong>Stochastic</strong> means \"determined by chance.\" Our training is <em>stochastic</em> because the minibatches are <em>random samples</em> from the dataset. And that's why it's called SGD!\n",
    "</blockquote>"
   ]
  },
  {
   "cell_type": "markdown",
   "id": "851c4a25",
   "metadata": {
    "papermill": {
     "duration": 0.010151,
     "end_time": "2022-05-05T17:51:08.752265",
     "exception": false,
     "start_time": "2022-05-05T17:51:08.742114",
     "status": "completed"
    },
    "tags": []
   },
   "source": [
    "## 6 Example - Red Wine Quality\n",
    "\n",
    "Now we know everything we need to start training deep learning models. So let's see it in action! We'll use the *Red Wine Quality* dataset.\n",
    "\n",
    "This dataset consists of physiochemical measurements from about 1600 Portuguese red wines. Also included is a quality rating for each wine from blind taste-tests. How well can we predict a wine's perceived quality from these measurements?\n",
    "\n",
    "We've put all of the data preparation into this next hidden cell. It's not essential to what follows so feel free to skip it. One thing you might note for now though is that we've rescaled each feature to lie in the interval $[0, 1]$. As we'll discuss more in Lesson 5, neural networks tend to perform best when their inputs are on a common scale."
   ]
  },
  {
   "cell_type": "code",
   "execution_count": 1,
   "id": "60c07c35",
   "metadata": {
    "_kg_hide-input": true,
    "lines_to_next_cell": 0,
    "papermill": {
     "duration": 0.084257,
     "end_time": "2022-05-05T17:51:08.847376",
     "exception": false,
     "start_time": "2022-05-05T17:51:08.763119",
     "status": "completed"
    },
    "tags": []
   },
   "outputs": [
    {
     "data": {
      "text/html": [
       "<div>\n",
       "<style scoped>\n",
       "    .dataframe tbody tr th:only-of-type {\n",
       "        vertical-align: middle;\n",
       "    }\n",
       "\n",
       "    .dataframe tbody tr th {\n",
       "        vertical-align: top;\n",
       "    }\n",
       "\n",
       "    .dataframe thead th {\n",
       "        text-align: right;\n",
       "    }\n",
       "</style>\n",
       "<table border=\"1\" class=\"dataframe\">\n",
       "  <thead>\n",
       "    <tr style=\"text-align: right;\">\n",
       "      <th></th>\n",
       "      <th>fixed acidity</th>\n",
       "      <th>volatile acidity</th>\n",
       "      <th>citric acid</th>\n",
       "      <th>residual sugar</th>\n",
       "      <th>chlorides</th>\n",
       "      <th>free sulfur dioxide</th>\n",
       "      <th>total sulfur dioxide</th>\n",
       "      <th>density</th>\n",
       "      <th>pH</th>\n",
       "      <th>sulphates</th>\n",
       "      <th>alcohol</th>\n",
       "      <th>quality</th>\n",
       "    </tr>\n",
       "  </thead>\n",
       "  <tbody>\n",
       "    <tr>\n",
       "      <th>1109</th>\n",
       "      <td>10.8</td>\n",
       "      <td>0.470</td>\n",
       "      <td>0.43</td>\n",
       "      <td>2.10</td>\n",
       "      <td>0.171</td>\n",
       "      <td>27.0</td>\n",
       "      <td>66.0</td>\n",
       "      <td>0.99820</td>\n",
       "      <td>3.17</td>\n",
       "      <td>0.76</td>\n",
       "      <td>10.8</td>\n",
       "      <td>6</td>\n",
       "    </tr>\n",
       "    <tr>\n",
       "      <th>1032</th>\n",
       "      <td>8.1</td>\n",
       "      <td>0.820</td>\n",
       "      <td>0.00</td>\n",
       "      <td>4.10</td>\n",
       "      <td>0.095</td>\n",
       "      <td>5.0</td>\n",
       "      <td>14.0</td>\n",
       "      <td>0.99854</td>\n",
       "      <td>3.36</td>\n",
       "      <td>0.53</td>\n",
       "      <td>9.6</td>\n",
       "      <td>5</td>\n",
       "    </tr>\n",
       "    <tr>\n",
       "      <th>1002</th>\n",
       "      <td>9.1</td>\n",
       "      <td>0.290</td>\n",
       "      <td>0.33</td>\n",
       "      <td>2.05</td>\n",
       "      <td>0.063</td>\n",
       "      <td>13.0</td>\n",
       "      <td>27.0</td>\n",
       "      <td>0.99516</td>\n",
       "      <td>3.26</td>\n",
       "      <td>0.84</td>\n",
       "      <td>11.7</td>\n",
       "      <td>7</td>\n",
       "    </tr>\n",
       "    <tr>\n",
       "      <th>487</th>\n",
       "      <td>10.2</td>\n",
       "      <td>0.645</td>\n",
       "      <td>0.36</td>\n",
       "      <td>1.80</td>\n",
       "      <td>0.053</td>\n",
       "      <td>5.0</td>\n",
       "      <td>14.0</td>\n",
       "      <td>0.99820</td>\n",
       "      <td>3.17</td>\n",
       "      <td>0.42</td>\n",
       "      <td>10.0</td>\n",
       "      <td>6</td>\n",
       "    </tr>\n",
       "  </tbody>\n",
       "</table>\n",
       "</div>"
      ],
      "text/plain": [
       "      fixed acidity  volatile acidity  citric acid  residual sugar  chlorides  \\\n",
       "1109           10.8             0.470         0.43            2.10      0.171   \n",
       "1032            8.1             0.820         0.00            4.10      0.095   \n",
       "1002            9.1             0.290         0.33            2.05      0.063   \n",
       "487            10.2             0.645         0.36            1.80      0.053   \n",
       "\n",
       "      free sulfur dioxide  total sulfur dioxide  density    pH  sulphates  \\\n",
       "1109                 27.0                  66.0  0.99820  3.17       0.76   \n",
       "1032                  5.0                  14.0  0.99854  3.36       0.53   \n",
       "1002                 13.0                  27.0  0.99516  3.26       0.84   \n",
       "487                   5.0                  14.0  0.99820  3.17       0.42   \n",
       "\n",
       "      alcohol  quality  \n",
       "1109     10.8        6  \n",
       "1032      9.6        5  \n",
       "1002     11.7        7  \n",
       "487      10.0        6  "
      ]
     },
     "metadata": {},
     "output_type": "display_data"
    }
   ],
   "source": [
    "\n",
    "import pandas as pd\n",
    "from IPython.display import display\n",
    "\n",
    "red_wine = pd.read_csv('data/red-wine.csv')\n",
    "\n",
    "# Create training and validation splits\n",
    "df_train = red_wine.sample(frac=0.7, random_state=0)\n",
    "df_valid = red_wine.drop(df_train.index)\n",
    "display(df_train.head(4))\n",
    "\n",
    "# Scale to [0, 1]\n",
    "max_ = df_train.max(axis=0)\n",
    "min_ = df_train.min(axis=0)\n",
    "df_train = (df_train - min_) / (max_ - min_)\n",
    "df_valid = (df_valid - min_) / (max_ - min_)\n",
    "\n",
    "# Split features and target\n",
    "X_train = df_train.drop('quality', axis=1)\n",
    "X_valid = df_valid.drop('quality', axis=1)\n",
    "y_train = df_train['quality']\n",
    "y_valid = df_valid['quality']"
   ]
  },
  {
   "cell_type": "markdown",
   "id": "d9113833",
   "metadata": {
    "papermill": {
     "duration": 0.010785,
     "end_time": "2022-05-05T17:51:08.870188",
     "exception": false,
     "start_time": "2022-05-05T17:51:08.859403",
     "status": "completed"
    },
    "tags": []
   },
   "source": [
    "<br>\n",
    "\n",
    "How many inputs should this network have? We can discover this by looking at the number of columns in the data matrix. Be sure not to include the target (`'quality'`) here -- only the input features."
   ]
  },
  {
   "cell_type": "code",
   "execution_count": 2,
   "id": "9ef4df3f",
   "metadata": {
    "lines_to_next_cell": 2,
    "papermill": {
     "duration": 0.019742,
     "end_time": "2022-05-05T17:51:08.900932",
     "exception": false,
     "start_time": "2022-05-05T17:51:08.881190",
     "status": "completed"
    },
    "tags": []
   },
   "outputs": [
    {
     "name": "stdout",
     "output_type": "stream",
     "text": [
      "(1119, 11)\n"
     ]
    }
   ],
   "source": [
    "print(X_train.shape)"
   ]
  },
  {
   "cell_type": "markdown",
   "id": "f1f4685c",
   "metadata": {
    "papermill": {
     "duration": 0.011457,
     "end_time": "2022-05-05T17:51:08.924283",
     "exception": false,
     "start_time": "2022-05-05T17:51:08.912826",
     "status": "completed"
    },
    "tags": []
   },
   "source": [
    "<br>\n",
    "\n",
    "Eleven columns means eleven inputs.\n",
    "\n",
    "We've chosen a three-layer network with over 1500 neurons. This network should be capable of learning fairly complex relationships in the data."
   ]
  },
  {
   "cell_type": "code",
   "execution_count": 3,
   "id": "e4a96768",
   "metadata": {
    "papermill": {
     "duration": 5.636819,
     "end_time": "2022-05-05T17:51:14.573031",
     "exception": false,
     "start_time": "2022-05-05T17:51:08.936212",
     "status": "completed"
    },
    "tags": []
   },
   "outputs": [],
   "source": [
    "from tensorflow import keras\n",
    "from tensorflow.keras import layers\n",
    "\n",
    "model = keras.Sequential([\n",
    "    layers.Dense(512, activation='relu', input_shape=[11]),\n",
    "    layers.Dense(512, activation='relu'),\n",
    "    layers.Dense(512, activation='relu'),\n",
    "    layers.Dense(1),\n",
    "])"
   ]
  },
  {
   "cell_type": "markdown",
   "id": "51116cd6",
   "metadata": {
    "papermill": {
     "duration": 0.013131,
     "end_time": "2022-05-05T17:51:14.599721",
     "exception": false,
     "start_time": "2022-05-05T17:51:14.586590",
     "status": "completed"
    },
    "tags": []
   },
   "source": [
    "<br>\n",
    "\n",
    "Deciding the architecture of your model should be part of a process. Start simple and use the validation loss as your guide. You'll learn more about model development in the exercises.\n",
    "\n",
    "After defining the model, we compile in the optimizer and loss function."
   ]
  },
  {
   "cell_type": "code",
   "execution_count": 4,
   "id": "bc991c75",
   "metadata": {
    "papermill": {
     "duration": 0.027452,
     "end_time": "2022-05-05T17:51:14.640479",
     "exception": false,
     "start_time": "2022-05-05T17:51:14.613027",
     "status": "completed"
    },
    "tags": []
   },
   "outputs": [],
   "source": [
    "model.compile(\n",
    "    optimizer='adam',\n",
    "    loss='mae',\n",
    ")"
   ]
  },
  {
   "cell_type": "markdown",
   "id": "0b519d2c",
   "metadata": {
    "papermill": {
     "duration": 0.011486,
     "end_time": "2022-05-05T17:51:14.664076",
     "exception": false,
     "start_time": "2022-05-05T17:51:14.652590",
     "status": "completed"
    },
    "tags": []
   },
   "source": [
    "<br>\n",
    "\n",
    "Now we're ready to start the training! We've told Keras to feed the optimizer 256 rows of the training data at a time (the `batch_size`) and to do that 10 times all the way through the dataset (the `epochs`)."
   ]
  },
  {
   "cell_type": "code",
   "execution_count": 5,
   "id": "201c9910",
   "metadata": {
    "papermill": {
     "duration": 3.126783,
     "end_time": "2022-05-05T17:51:17.802722",
     "exception": false,
     "start_time": "2022-05-05T17:51:14.675939",
     "status": "completed"
    },
    "tags": []
   },
   "outputs": [
    {
     "name": "stdout",
     "output_type": "stream",
     "text": [
      "Epoch 1/10\n",
      "5/5 [==============================] - 1s 39ms/step - loss: 0.2567 - val_loss: 0.1344\n",
      "Epoch 2/10\n",
      "5/5 [==============================] - 0s 8ms/step - loss: 0.1436 - val_loss: 0.1274\n",
      "Epoch 3/10\n",
      "5/5 [==============================] - 0s 8ms/step - loss: 0.1337 - val_loss: 0.1190\n",
      "Epoch 4/10\n",
      "5/5 [==============================] - 0s 8ms/step - loss: 0.1158 - val_loss: 0.1105\n",
      "Epoch 5/10\n",
      "5/5 [==============================] - 0s 8ms/step - loss: 0.1136 - val_loss: 0.1094\n",
      "Epoch 6/10\n",
      "5/5 [==============================] - 0s 8ms/step - loss: 0.1089 - val_loss: 0.1041\n",
      "Epoch 7/10\n",
      "5/5 [==============================] - 0s 8ms/step - loss: 0.1063 - val_loss: 0.1113\n",
      "Epoch 8/10\n",
      "5/5 [==============================] - 0s 8ms/step - loss: 0.1059 - val_loss: 0.1023\n",
      "Epoch 9/10\n",
      "5/5 [==============================] - 0s 8ms/step - loss: 0.1025 - val_loss: 0.1026\n",
      "Epoch 10/10\n",
      "5/5 [==============================] - 0s 8ms/step - loss: 0.1016 - val_loss: 0.1011\n"
     ]
    }
   ],
   "source": [
    "history = model.fit(\n",
    "    X_train, y_train,\n",
    "    validation_data=(X_valid, y_valid),\n",
    "    batch_size=256,\n",
    "    epochs=10,\n",
    ")"
   ]
  },
  {
   "cell_type": "markdown",
   "id": "b2f2cb27",
   "metadata": {
    "papermill": {
     "duration": 0.020275,
     "end_time": "2022-05-05T17:51:17.843301",
     "exception": false,
     "start_time": "2022-05-05T17:51:17.823026",
     "status": "completed"
    },
    "tags": []
   },
   "source": [
    "<br>\n",
    "\n",
    "You can see that Keras will keep you updated on the loss as the model trains.\n",
    "\n",
    "Often, a better way to view the loss though is to plot it. The `fit` method in fact keeps a record of the loss produced during training in a `History` object. We'll convert the data to a Pandas dataframe, which makes the plotting easy."
   ]
  },
  {
   "cell_type": "code",
   "execution_count": null,
   "id": "90d01429",
   "metadata": {
    "lines_to_next_cell": 2,
    "papermill": {
     "duration": 0.230129,
     "end_time": "2022-05-05T17:51:18.093226",
     "exception": false,
     "start_time": "2022-05-05T17:51:17.863097",
     "status": "completed"
    },
    "tags": []
   },
   "outputs": [],
   "source": [
    "import pandas as pd\n",
    "\n",
    "# convert the training history to a dataframe\n",
    "history_df = pd.DataFrame(history.history)\n",
    "# use Pandas native plot method\n",
    "history_df['loss'].plot();"
   ]
  },
  {
   "cell_type": "markdown",
   "id": "7545fb3a",
   "metadata": {
    "papermill": {
     "duration": 0.031308,
     "end_time": "2022-05-05T17:51:18.156210",
     "exception": false,
     "start_time": "2022-05-05T17:51:18.124902",
     "status": "completed"
    },
    "tags": []
   },
   "source": [
    "Notice how the loss levels off as the epochs go by. When the loss curve becomes horizontal like that, it means the model has learned all it can and there would be no reason continue for additional epochs."
   ]
  },
  {
   "cell_type": "markdown",
   "id": "23ff6efe-ef56-4f44-967d-cd0d6ddf7582",
   "metadata": {},
   "source": [
    "## 7 Exercises\n",
    "\n",
    "Here you'll train a neural network on the *Fuel Economy* dataset and then explore the effect of the learning rate and batch size on SGD.\n",
    "\n"
   ]
  },
  {
   "cell_type": "markdown",
   "id": "deb1a4b0-7131-41f7-893d-d1651494e40e",
   "metadata": {},
   "source": [
    "In the *Fuel Economy* dataset your task is to predict the fuel economy of an automobile given features like its type of engine or the year it was made. \n",
    "\n",
    "First load the dataset by running the cell below."
   ]
  },
  {
   "cell_type": "code",
   "execution_count": 3,
   "id": "8cae8312-e9fa-4134-8d59-27b82bbe316b",
   "metadata": {},
   "outputs": [
    {
     "name": "stdout",
     "output_type": "stream",
     "text": [
      "Input shape: [50]\n"
     ]
    }
   ],
   "source": [
    "import matplotlib.pyplot as plt\n",
    "import numpy as np\n",
    "import pandas as pd\n",
    "\n",
    "# pip install sklearn\n",
    "from sklearn.preprocessing import StandardScaler, OneHotEncoder\n",
    "from sklearn.compose import make_column_transformer, make_column_selector\n",
    "from sklearn.model_selection import train_test_split\n",
    "\n",
    "fuel = pd.read_csv('data/fuel.csv')\n",
    "\n",
    "X = fuel.copy()\n",
    "# Remove target\n",
    "y = X.pop('FE')\n",
    "\n",
    "preprocessor = make_column_transformer(\n",
    "    (StandardScaler(),\n",
    "     make_column_selector(dtype_include=np.number)),\n",
    "    (OneHotEncoder(sparse=False),\n",
    "     make_column_selector(dtype_include=object)),\n",
    ")\n",
    "\n",
    "X = preprocessor.fit_transform(X)\n",
    "y = np.log(y) # log transform target instead of standardizing\n",
    "\n",
    "input_shape = [X.shape[1]]\n",
    "print(\"Input shape: {}\".format(input_shape))"
   ]
  },
  {
   "cell_type": "markdown",
   "id": "350cf1af-a853-406c-8ac2-ff2377223b43",
   "metadata": {},
   "source": [
    "<br>\n",
    "\n",
    "Take a look at the data if you like. Our target in this case is the `'FE'` column and the remaining columns are the features."
   ]
  },
  {
   "cell_type": "code",
   "execution_count": 4,
   "id": "143806b1-6205-4854-ab58-ef3008dd2de7",
   "metadata": {},
   "outputs": [
    {
     "data": {
      "text/html": [
       "<div>\n",
       "<style scoped>\n",
       "    .dataframe tbody tr th:only-of-type {\n",
       "        vertical-align: middle;\n",
       "    }\n",
       "\n",
       "    .dataframe tbody tr th {\n",
       "        vertical-align: top;\n",
       "    }\n",
       "\n",
       "    .dataframe thead th {\n",
       "        text-align: right;\n",
       "    }\n",
       "</style>\n",
       "<table border=\"1\" class=\"dataframe\">\n",
       "  <thead>\n",
       "    <tr style=\"text-align: right;\">\n",
       "      <th></th>\n",
       "      <th>0</th>\n",
       "      <th>1</th>\n",
       "      <th>2</th>\n",
       "      <th>3</th>\n",
       "      <th>4</th>\n",
       "      <th>5</th>\n",
       "      <th>6</th>\n",
       "      <th>7</th>\n",
       "      <th>8</th>\n",
       "      <th>9</th>\n",
       "      <th>...</th>\n",
       "      <th>40</th>\n",
       "      <th>41</th>\n",
       "      <th>42</th>\n",
       "      <th>43</th>\n",
       "      <th>44</th>\n",
       "      <th>45</th>\n",
       "      <th>46</th>\n",
       "      <th>47</th>\n",
       "      <th>48</th>\n",
       "      <th>49</th>\n",
       "    </tr>\n",
       "  </thead>\n",
       "  <tbody>\n",
       "    <tr>\n",
       "      <th>0</th>\n",
       "      <td>0.913643</td>\n",
       "      <td>1.068005</td>\n",
       "      <td>0.524148</td>\n",
       "      <td>0.685653</td>\n",
       "      <td>-0.226455</td>\n",
       "      <td>0.391659</td>\n",
       "      <td>0.43492</td>\n",
       "      <td>0.463841</td>\n",
       "      <td>-0.447941</td>\n",
       "      <td>0.0</td>\n",
       "      <td>...</td>\n",
       "      <td>0.0</td>\n",
       "      <td>0.0</td>\n",
       "      <td>0.0</td>\n",
       "      <td>0.0</td>\n",
       "      <td>0.0</td>\n",
       "      <td>0.0</td>\n",
       "      <td>0.0</td>\n",
       "      <td>0.0</td>\n",
       "      <td>0.0</td>\n",
       "      <td>0.0</td>\n",
       "    </tr>\n",
       "    <tr>\n",
       "      <th>1</th>\n",
       "      <td>0.913643</td>\n",
       "      <td>1.068005</td>\n",
       "      <td>0.524148</td>\n",
       "      <td>0.685653</td>\n",
       "      <td>-0.226455</td>\n",
       "      <td>0.391659</td>\n",
       "      <td>0.43492</td>\n",
       "      <td>0.463841</td>\n",
       "      <td>-0.447941</td>\n",
       "      <td>0.0</td>\n",
       "      <td>...</td>\n",
       "      <td>0.0</td>\n",
       "      <td>0.0</td>\n",
       "      <td>0.0</td>\n",
       "      <td>0.0</td>\n",
       "      <td>0.0</td>\n",
       "      <td>0.0</td>\n",
       "      <td>0.0</td>\n",
       "      <td>0.0</td>\n",
       "      <td>0.0</td>\n",
       "      <td>0.0</td>\n",
       "    </tr>\n",
       "    <tr>\n",
       "      <th>2</th>\n",
       "      <td>0.530594</td>\n",
       "      <td>1.068005</td>\n",
       "      <td>0.524148</td>\n",
       "      <td>0.685653</td>\n",
       "      <td>-0.226455</td>\n",
       "      <td>0.391659</td>\n",
       "      <td>0.43492</td>\n",
       "      <td>0.463841</td>\n",
       "      <td>-0.447941</td>\n",
       "      <td>0.0</td>\n",
       "      <td>...</td>\n",
       "      <td>0.0</td>\n",
       "      <td>0.0</td>\n",
       "      <td>0.0</td>\n",
       "      <td>0.0</td>\n",
       "      <td>0.0</td>\n",
       "      <td>0.0</td>\n",
       "      <td>0.0</td>\n",
       "      <td>0.0</td>\n",
       "      <td>0.0</td>\n",
       "      <td>0.0</td>\n",
       "    </tr>\n",
       "    <tr>\n",
       "      <th>3</th>\n",
       "      <td>0.530594</td>\n",
       "      <td>1.068005</td>\n",
       "      <td>0.524148</td>\n",
       "      <td>0.685653</td>\n",
       "      <td>-0.226455</td>\n",
       "      <td>0.391659</td>\n",
       "      <td>0.43492</td>\n",
       "      <td>0.463841</td>\n",
       "      <td>-0.447941</td>\n",
       "      <td>0.0</td>\n",
       "      <td>...</td>\n",
       "      <td>0.0</td>\n",
       "      <td>0.0</td>\n",
       "      <td>0.0</td>\n",
       "      <td>0.0</td>\n",
       "      <td>0.0</td>\n",
       "      <td>0.0</td>\n",
       "      <td>0.0</td>\n",
       "      <td>0.0</td>\n",
       "      <td>0.0</td>\n",
       "      <td>0.0</td>\n",
       "    </tr>\n",
       "    <tr>\n",
       "      <th>4</th>\n",
       "      <td>1.296693</td>\n",
       "      <td>2.120794</td>\n",
       "      <td>0.524148</td>\n",
       "      <td>-1.458464</td>\n",
       "      <td>-0.226455</td>\n",
       "      <td>0.391659</td>\n",
       "      <td>0.43492</td>\n",
       "      <td>0.463841</td>\n",
       "      <td>-0.447941</td>\n",
       "      <td>0.0</td>\n",
       "      <td>...</td>\n",
       "      <td>0.0</td>\n",
       "      <td>0.0</td>\n",
       "      <td>0.0</td>\n",
       "      <td>0.0</td>\n",
       "      <td>0.0</td>\n",
       "      <td>0.0</td>\n",
       "      <td>0.0</td>\n",
       "      <td>0.0</td>\n",
       "      <td>0.0</td>\n",
       "      <td>0.0</td>\n",
       "    </tr>\n",
       "  </tbody>\n",
       "</table>\n",
       "<p>5 rows × 50 columns</p>\n",
       "</div>"
      ],
      "text/plain": [
       "         0         1         2         3         4         5        6   \\\n",
       "0  0.913643  1.068005  0.524148  0.685653 -0.226455  0.391659  0.43492   \n",
       "1  0.913643  1.068005  0.524148  0.685653 -0.226455  0.391659  0.43492   \n",
       "2  0.530594  1.068005  0.524148  0.685653 -0.226455  0.391659  0.43492   \n",
       "3  0.530594  1.068005  0.524148  0.685653 -0.226455  0.391659  0.43492   \n",
       "4  1.296693  2.120794  0.524148 -1.458464 -0.226455  0.391659  0.43492   \n",
       "\n",
       "         7         8    9   ...   40   41   42   43   44   45   46   47   48  \\\n",
       "0  0.463841 -0.447941  0.0  ...  0.0  0.0  0.0  0.0  0.0  0.0  0.0  0.0  0.0   \n",
       "1  0.463841 -0.447941  0.0  ...  0.0  0.0  0.0  0.0  0.0  0.0  0.0  0.0  0.0   \n",
       "2  0.463841 -0.447941  0.0  ...  0.0  0.0  0.0  0.0  0.0  0.0  0.0  0.0  0.0   \n",
       "3  0.463841 -0.447941  0.0  ...  0.0  0.0  0.0  0.0  0.0  0.0  0.0  0.0  0.0   \n",
       "4  0.463841 -0.447941  0.0  ...  0.0  0.0  0.0  0.0  0.0  0.0  0.0  0.0  0.0   \n",
       "\n",
       "    49  \n",
       "0  0.0  \n",
       "1  0.0  \n",
       "2  0.0  \n",
       "3  0.0  \n",
       "4  0.0  \n",
       "\n",
       "[5 rows x 50 columns]"
      ]
     },
     "execution_count": 4,
     "metadata": {},
     "output_type": "execute_result"
    }
   ],
   "source": [
    "# Uncomment to see original data\n",
    "fuel.head()\n",
    "# Uncomment to see processed features\n",
    "pd.DataFrame(X[:10,:]).head()"
   ]
  },
  {
   "cell_type": "markdown",
   "id": "a511cb72-bca5-4798-ae6e-e64bfadcd3d0",
   "metadata": {},
   "source": [
    "Run the next cell to define the network we'll use for this task."
   ]
  },
  {
   "cell_type": "code",
   "execution_count": null,
   "id": "7cc0ee04-c761-475a-8f91-76db1ecfbd93",
   "metadata": {},
   "outputs": [],
   "source": [
    "from tensorflow import keras\n",
    "from tensorflow.keras import layers\n",
    "\n",
    "model = keras.Sequential([\n",
    "    layers.Dense(128, activation='relu', input_shape=input_shape),\n",
    "    layers.Dense(128, activation='relu'),    \n",
    "    layers.Dense(64, activation='relu'),\n",
    "    layers.Dense(1),\n",
    "])"
   ]
  },
  {
   "cell_type": "markdown",
   "id": "ca0d9147-f38f-4509-92e8-6f9fedc3ab44",
   "metadata": {},
   "source": [
    "### 7.1 Add Loss and Optimizer\n",
    "\n",
    "Before training the network we need to define the loss and optimizer we'll use. Using the model's `compile` method, add the Adam optimizer and MAE loss."
   ]
  },
  {
   "cell_type": "code",
   "execution_count": null,
   "id": "886ff242-cd72-4688-94e2-0d8e99155445",
   "metadata": {
    "lines_to_next_cell": 0
   },
   "outputs": [],
   "source": [
    "# YOUR CODE HERE\n",
    "# ____\n",
    "\n"
   ]
  },
  {
   "cell_type": "markdown",
   "id": "1fdbce9e-9c32-479c-9c9f-5070d35d661f",
   "metadata": {},
   "source": [
    "### 7.2 Train Model\n",
    "\n",
    "Once you've defined the model and compiled it with a loss and optimizer you're ready for training. Train the network for 200 epochs with a batch size of 128. The input data is `X` with target `y`."
   ]
  },
  {
   "cell_type": "code",
   "execution_count": null,
   "id": "24ae91cf-977a-4c9c-ae9a-a640d05cec1a",
   "metadata": {
    "lines_to_next_cell": 0
   },
   "outputs": [],
   "source": [
    "# YOUR CODE HERE\n",
    "# history = ____\n",
    "\n"
   ]
  },
  {
   "cell_type": "markdown",
   "id": "72682502-1d54-4e3f-821d-f90a551d0f79",
   "metadata": {},
   "source": [
    "<br>\n",
    "\n",
    "The last step is to look at the loss curves and evaluate the training. Run the cell below to get a plot of the training loss."
   ]
  },
  {
   "cell_type": "code",
   "execution_count": null,
   "id": "eaaea21e-32b0-4a48-954a-bec1c172bc2d",
   "metadata": {
    "lines_to_next_cell": 0
   },
   "outputs": [],
   "source": [
    "import pandas as pd\n",
    "\n",
    "history_df = pd.DataFrame(history.history)\n",
    "# Start the plot at epoch 5. You can change this to get a different view.\n",
    "history_df.loc[5:, ['loss']].plot();"
   ]
  },
  {
   "cell_type": "markdown",
   "id": "de11b044-6730-4fec-82dc-45ef7ee3e695",
   "metadata": {},
   "source": [
    "### 7.3 Evaluate Training\n",
    "\n",
    "If you trained the model longer, would you expect the loss to decrease further?"
   ]
  },
  {
   "cell_type": "markdown",
   "id": "1b979824-8394-42ab-9f7b-4464fc6b264c",
   "metadata": {},
   "source": [
    "With the learning rate and the batch size, you have some control over:\n",
    "- How long it takes to train a model\n",
    "- How noisy the learning curves are\n",
    "- How small the loss becomes\n",
    "\n",
    "To get a better understanding of these two parameters, we'll look at the linear model, our ppsimplest neural network. Having only a single weight and a bias, it's easier to see what effect a change of parameter has.\n",
    "\n",
    "The next cell will generate an animation like the one in the tutorial. Change the values for `learning_rate`, `batch_size`, and `num_examples` (how many data points) and then run the cell. (It may take a moment or two.) Try the following combinations, or try some of your own:\n",
    "\n",
    "| `learning_rate` | `batch_size` | `num_examples` |\n",
    "|-----------------|--------------|----------------|\n",
    "| 0.05            | 32           | 256            |\n",
    "| 0.05            | 2            | 256            |\n",
    "| 0.05            | 128          | 256            |\n",
    "| 0.02            | 32           | 256            |\n",
    "| 0.2             | 32           | 256            |\n",
    "| 1.0             | 32           | 256            |\n",
    "| 0.9             | 4096         | 8192           |\n",
    "| 0.99            | 4096         | 8192           |"
   ]
  },
  {
   "cell_type": "code",
   "execution_count": null,
   "id": "ff93dbc0-c5b8-4b0e-8625-57006843c257",
   "metadata": {},
   "outputs": [],
   "source": [
    "# YOUR CODE HERE: Experiment with different values for the learning rate, batch size, and number of examples\n",
    "learning_rate = 0.05\n",
    "batch_size = 32\n",
    "num_examples = 256\n",
    "\n",
    "animate_sgd(\n",
    "    learning_rate=learning_rate,\n",
    "    batch_size=batch_size,\n",
    "    num_examples=num_examples,\n",
    "    # You can also change these, if you like\n",
    "    steps=50, # total training steps (batches seen)\n",
    "    true_w=3.0, # the slope of the data\n",
    "    true_b=2.0, # the bias of the data\n",
    ")"
   ]
  },
  {
   "cell_type": "markdown",
   "id": "b79945d2-9816-4b25-95ce-15231a824d51",
   "metadata": {},
   "source": [
    "### 7.4 Learning Rate and Batch Size\n",
    "\n",
    "What effect did changing these parameters have? After you've thought about it, run the cell below for some discussion."
   ]
  }
 ],
 "metadata": {
  "jupytext": {
   "cell_metadata_filter": "-all",
   "formats": "ipynb"
  },
  "kernelspec": {
   "display_name": "Python 3 (ipykernel)",
   "language": "python",
   "name": "python3"
  },
  "language_info": {
   "codemirror_mode": {
    "name": "ipython",
    "version": 3
   },
   "file_extension": ".py",
   "mimetype": "text/x-python",
   "name": "python",
   "nbconvert_exporter": "python",
   "pygments_lexer": "ipython3",
   "version": "3.7.13"
  },
  "papermill": {
   "default_parameters": {},
   "duration": 20.247301,
   "end_time": "2022-05-05T17:51:21.181650",
   "environment_variables": {},
   "exception": null,
   "input_path": "__notebook__.ipynb",
   "output_path": "__notebook__.ipynb",
   "parameters": {},
   "start_time": "2022-05-05T17:51:00.934349",
   "version": "2.3.4"
  }
 },
 "nbformat": 4,
 "nbformat_minor": 5
}
